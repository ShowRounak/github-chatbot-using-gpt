{
 "cells": [
  {
   "cell_type": "markdown",
   "metadata": {},
   "source": [
    "## Importing Necessary Libraries"
   ]
  },
  {
   "cell_type": "code",
   "execution_count": 32,
   "metadata": {},
   "outputs": [],
   "source": [
    "from git import Repo\n",
    "import os\n",
    "from langchain.document_loaders import TextLoader\n",
    "from langchain.text_splitter import RecursiveCharacterTextSplitter\n",
    "from langchain.embeddings.openai import OpenAIEmbeddings\n",
    "from langchain.vectorstores import Chroma\n",
    "from langchain.chat_models import ChatOpenAI\n",
    "from langchain.memory import ConversationSummaryMemory\n",
    "from langchain.chains import ConversationalRetrievalChain\n",
    "from langchain.embeddings import HuggingFaceEmbeddings"
   ]
  },
  {
   "cell_type": "code",
   "execution_count": 18,
   "metadata": {},
   "outputs": [],
   "source": [
    "#enter openai key\n",
    "os.environ[\"OPENAI_API_KEY\"] = \"\""
   ]
  },
  {
   "cell_type": "markdown",
   "metadata": {},
   "source": [
    "## Cloning the GitHub Repository"
   ]
  },
  {
   "cell_type": "code",
   "execution_count": 40,
   "metadata": {},
   "outputs": [
    {
     "name": "stdout",
     "output_type": "stream",
     "text": [
      "current path e:\\GitHub Repo Chatbot\\git code chatbot\n",
      "last name YT-Comments-Sentiment-Analysis-Using-BERT.git\n",
      "clone path YT-Comments-Sentiment-Analysis-Using-BERT\n",
      "path e:\\GitHub Repo Chatbot\\git code chatbot\\YT-Comments-Sentiment-Analysis-Using-BERT\n"
     ]
    }
   ],
   "source": [
    "url = 'https://github.com/ShowRounak/YT-Comments-Sentiment-Analysis-Using-BERT.git'\n",
    "current_path = os.getcwd()\n",
    "print('current path',current_path)\n",
    "last_name = url.split('/')[-1]\n",
    "print('last name',last_name)\n",
    "clone_path = last_name.split('.')[0]\n",
    "print('clone path',clone_path)\n",
    "repo_path = os.path.join(current_path,clone_path)\n",
    "print('path',repo_path)\n",
    "\n",
    "if not os.path.exists(repo_path):\n",
    "    repo = Repo.clone_from(url, to_path=repo_path)"
   ]
  },
  {
   "cell_type": "markdown",
   "metadata": {},
   "source": [
    "## Extracting all the files"
   ]
  },
  {
   "cell_type": "code",
   "execution_count": 41,
   "metadata": {},
   "outputs": [],
   "source": [
    "allowed_extensions = ['.py', '.ipynb', '.md']\n",
    "\n",
    "def extract_all_files(repo_path):\n",
    "        root_dir = repo_path\n",
    "        docs = []\n",
    "        for dirpath, dirnames, filenames in os.walk(root_dir):\n",
    "            for file in filenames:\n",
    "                file_extension = os.path.splitext(file)[1]\n",
    "                if file_extension in allowed_extensions:\n",
    "                    try: \n",
    "                        loader = TextLoader(os.path.join(dirpath, file), encoding='utf-8')\n",
    "                        docs.extend(loader.load_and_split())\n",
    "                    except Exception as e:\n",
    "                        pass\n",
    "        return docs\n",
    "\n",
    "docs = extract_all_files(repo_path)"
   ]
  },
  {
   "cell_type": "code",
   "execution_count": 42,
   "metadata": {},
   "outputs": [
    {
     "data": {
      "text/plain": [
       "4"
      ]
     },
     "execution_count": 42,
     "metadata": {},
     "output_type": "execute_result"
    }
   ],
   "source": [
    "len(docs)"
   ]
  },
  {
   "cell_type": "markdown",
   "metadata": {},
   "source": [
    "## Creating Embeddings"
   ]
  },
  {
   "cell_type": "code",
   "execution_count": 43,
   "metadata": {},
   "outputs": [],
   "source": [
    "model_name = \"all-MiniLM-L6-v2\"\n",
    "model_kwargs={'device': 'cpu'}\n",
    "\n",
    "\n",
    "def chunk_files(docs):\n",
    "        text_splitter = RecursiveCharacterTextSplitter(chunk_size=1000, chunk_overlap=20)\n",
    "        texts = text_splitter.split_documents(docs)\n",
    "        num_texts = len(texts)\n",
    "        return texts\n",
    "\n",
    "def create_embeddings(texts):\n",
    "    embeddings = HuggingFaceEmbeddings(model_name= model_name,model_kwargs=model_kwargs)\n",
    "    #embeddings= OpenAIEmbeddings()\n",
    "    return embeddings\n",
    "\n",
    "texts = chunk_files(docs)\n",
    "embeddings = create_embeddings(texts)\n"
   ]
  },
  {
   "cell_type": "code",
   "execution_count": 50,
   "metadata": {},
   "outputs": [
    {
     "name": "stdout",
     "output_type": "stream",
     "text": [
      "YT-Comments-Sentiment-Analysis-Using-BERT-chroma\n"
     ]
    }
   ],
   "source": [
    "chroma_path = f'{clone_path}-chroma'\n",
    "print(chroma_path)"
   ]
  },
  {
   "cell_type": "code",
   "execution_count": 51,
   "metadata": {},
   "outputs": [],
   "source": [
    "\n",
    "def load_db(texts, embeddings):\n",
    "    vectordb = Chroma.from_documents(texts, embedding=embeddings, persist_directory=chroma_path)\n",
    "    vectordb.persist()\n",
    "    return vectordb\n",
    "\n",
    "vectordb = load_db(texts, embeddings)"
   ]
  },
  {
   "cell_type": "markdown",
   "metadata": {},
   "source": [
    "## Question-answering using GPT"
   ]
  },
  {
   "cell_type": "code",
   "execution_count": 52,
   "metadata": {},
   "outputs": [],
   "source": [
    "llm = ChatOpenAI(model_name=\"gpt-3.5-turbo\")    \n",
    "\n",
    "def retrieve_results(query,vectordb):\n",
    "        memory = ConversationSummaryMemory(llm=llm, memory_key = \"chat_history\", return_messages=True)\n",
    "        qa = ConversationalRetrievalChain.from_llm(llm, retriever=vectordb.as_retriever(search_type=\"mmr\", search_kwargs={\"k\":8}), memory=memory)\n",
    "        result = qa(query)\n",
    "        return result['answer']"
   ]
  },
  {
   "cell_type": "code",
   "execution_count": 54,
   "metadata": {},
   "outputs": [
    {
     "name": "stderr",
     "output_type": "stream",
     "text": [
      "Number of requested results 20 is greater than number of elements in index 5, updating n_results = 5\n"
     ]
    },
    {
     "name": "stdout",
     "output_type": "stream",
     "text": [
      "The requirements for this repository are:\n",
      "- Python 3.x\n",
      "- Google Developer API Key\n",
      "- TensorFlow or PyTorch (choose based on your preference)\n"
     ]
    }
   ],
   "source": [
    "query = 'what are the requirements of this repository'\n",
    "answer = retrieve_results(query,vectordb)\n",
    "\n",
    "print(answer)"
   ]
  },
  {
   "cell_type": "code",
   "execution_count": null,
   "metadata": {},
   "outputs": [],
   "source": []
  }
 ],
 "metadata": {
  "kernelspec": {
   "display_name": "my_deep_learning",
   "language": "python",
   "name": "python3"
  },
  "language_info": {
   "codemirror_mode": {
    "name": "ipython",
    "version": 3
   },
   "file_extension": ".py",
   "mimetype": "text/x-python",
   "name": "python",
   "nbconvert_exporter": "python",
   "pygments_lexer": "ipython3",
   "version": "3.9.18"
  }
 },
 "nbformat": 4,
 "nbformat_minor": 2
}
